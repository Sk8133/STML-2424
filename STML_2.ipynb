{
  "nbformat": 4,
  "nbformat_minor": 0,
  "metadata": {
    "colab": {
      "provenance": [],
      "authorship_tag": "ABX9TyMeB3/By0JYwYgwKj7JRVgN",
      "include_colab_link": true
    },
    "kernelspec": {
      "name": "python3",
      "display_name": "Python 3"
    },
    "language_info": {
      "name": "python"
    }
  },
  "cells": [
    {
      "cell_type": "markdown",
      "metadata": {
        "id": "view-in-github",
        "colab_type": "text"
      },
      "source": [
        "<a href=\"https://colab.research.google.com/github/Sk8133/STML-2424/blob/main/STML_2.ipynb\" target=\"_parent\"><img src=\"https://colab.research.google.com/assets/colab-badge.svg\" alt=\"Open In Colab\"/></a>"
      ]
    },
    {
      "cell_type": "code",
      "execution_count": 1,
      "metadata": {
        "colab": {
          "base_uri": "https://localhost:8080/"
        },
        "id": "tKLX7KwTG-Iz",
        "outputId": "e06cd3db-e326-4347-af07-f49184ce4754"
      },
      "outputs": [
        {
          "output_type": "execute_result",
          "data": {
            "text/plain": [
              "86400"
            ]
          },
          "metadata": {},
          "execution_count": 1
        }
      ],
      "source": [
        "seconds_in_a_day = 24 * 60 * 60\n",
        "seconds_in_a_day"
      ]
    },
    {
      "cell_type": "code",
      "source": [
        "seconds_in_a_week = 7 * seconds_in_a_day\n",
        "seconds_in_a_week"
      ],
      "metadata": {
        "colab": {
          "base_uri": "https://localhost:8080/"
        },
        "id": "DBsWU-WuHH5R",
        "outputId": "7e1c2fdd-5cce-4b79-8538-f8e341468485"
      },
      "execution_count": 2,
      "outputs": [
        {
          "output_type": "execute_result",
          "data": {
            "text/plain": [
              "604800"
            ]
          },
          "metadata": {},
          "execution_count": 2
        }
      ]
    },
    {
      "cell_type": "code",
      "source": [
        "import numpy as np\n",
        "import IPython.display as display\n",
        "from matplotlib import pyplot as plt\n",
        "import io\n",
        "import base64\n",
        "\n",
        "ys = 200 + np.random.randn(100)\n",
        "x = [x for x in range(len(ys))]\n",
        "\n",
        "fig = plt.figure(figsize=(4, 3), facecolor='w')\n",
        "plt.plot(x, ys, '-')\n",
        "plt.fill_between(x, ys, 195, where=(ys > 195), facecolor='g', alpha=0.6)\n",
        "plt.title(\"Sample Visualization\", fontsize=10)\n",
        "\n",
        "data = io.BytesIO()\n",
        "plt.savefig(data)\n",
        "image = F\"data:image/png;base64,{base64.b64encode(data.getvalue()).decode()}\"\n",
        "alt = \"Sample Visualization\"\n",
        "display.display(display.Markdown(F\"\"\"![{alt}]({image})\"\"\"))\n",
        "plt.close(fig)"
      ],
      "metadata": {
        "colab": {
          "base_uri": "https://localhost:8080/",
          "height": 334
        },
        "id": "yFNgBBaAHIxq",
        "outputId": "41b282af-824d-4135-da01-63be7c1b1b3f"
      },
      "execution_count": 3,
      "outputs": [
        {
          "output_type": "display_data",
          "data": {
            "text/plain": [
              "<IPython.core.display.Markdown object>"
            ],
            "text/markdown": "![Sample Visualization](data:image/png;base64,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)"
          },
          "metadata": {}
        }
      ]
    },
    {
      "cell_type": "code",
      "source": [
        "from google.colab import drive\n",
        "drive.mount('/content/drive')"
      ],
      "metadata": {
        "colab": {
          "base_uri": "https://localhost:8080/"
        },
        "id": "yv5dcmzUHK_u",
        "outputId": "158f53b3-c4d0-424e-93c1-71d40a744e49"
      },
      "execution_count": 4,
      "outputs": [
        {
          "output_type": "stream",
          "name": "stdout",
          "text": [
            "Mounted at /content/drive\n"
          ]
        }
      ]
    },
    {
      "cell_type": "code",
      "source": [
        "import numpy as np\n",
        "import pandas as pd\n",
        "import scipy as sc\n",
        "import statistics as stat\n",
        "from scipy.stats import skew\n",
        "from scipy.stats import kurtosis\n",
        "from scipy.stats import iqr\n",
        "import matplotlib.pyplot as plt\n",
        "\n",
        "# Mount Google Drive to access the file (if not already mounted)\n",
        "from google.colab import drive\n",
        "drive.mount('/content/drive')\n",
        "\n",
        "# Verify the file path and name\n",
        "file_path = '/content/drive/MyDrive/Document from SHAIK SUBHANI' # Double-check this path for typos or incorrect location\n",
        "\n",
        "# Try reading the file with error handling\n",
        "try:\n",
        "    a = pd.read_csv(file_path)\n",
        "    print(a)\n",
        "    print(a.columns)\n",
        "except FileNotFoundError:\n",
        "    print(f\"Error: File not found at {file_path}. Please check the file path and ensure it exists.\")\n",
        "except Exception as e:\n",
        "    print(f\"An unexpected error occurred: {e}\")"
      ],
      "metadata": {
        "colab": {
          "base_uri": "https://localhost:8080/"
        },
        "id": "DVlGo-myHbaS",
        "outputId": "854faf4e-fd9e-43e8-d177-f0b480e15db7"
      },
      "execution_count": 9,
      "outputs": [
        {
          "output_type": "stream",
          "name": "stdout",
          "text": [
            "Drive already mounted at /content/drive; to attempt to forcibly remount, call drive.mount(\"/content/drive\", force_remount=True).\n",
            "Error: File not found at /content/drive/MyDrive/Document from SHAIK SUBHANI. Please check the file path and ensure it exists.\n"
          ]
        }
      ]
    },
    {
      "cell_type": "code",
      "source": [
        "import numpy as np\n",
        "import pandas as pd\n",
        "import scipy as sc\n",
        "import statistics as stat\n",
        "from scipy.stats import skew\n",
        "from scipy.stats import kurtosis\n",
        "from scipy.stats import iqr\n",
        "import matplotlib.pyplot as plt\n",
        "\n",
        "# Mount Google Drive to access the file (if not already mounted)\n",
        "from google.colab import drive\n",
        "drive.mount('/content/drive')\n",
        "\n",
        "# Verify the file path and name\n",
        "file_path = '/content/drive/MyDrive/Document from SHAIK SUBHANI' # Double-check this path for typos or incorrect location\n",
        "\n",
        "# Try reading the file with error handling\n",
        "try:\n",
        "    a = pd.read_csv(file_path)  # Define 'a' here\n",
        "    print(a)\n",
        "    print(a.columns)\n",
        "except FileNotFoundError:\n",
        "    print(f\"Error: File not found at {file_path}. Please check the file path and ensure it exists.\")\n",
        "except Exception as e:\n",
        "    print(f\"An unexpected error occurred: {e}\")\n",
        "\n",
        "# Ensure 'a' is defined before using it. If the above `try` block fails, 'a' won't be defined.\n",
        "if 'a' in locals():  # Check if 'a' is a defined variable\n",
        "    print(\"Median Value of Blood Pressure \")\n",
        "    print(np.median(a['Blood Pressure (mmHg)']))\n",
        "    print(\"Median Value of Cholesterol\")\n",
        "    print(np.median(a['Cholesterol (mg/dL)']))\n",
        "    print(\"Median value of Age\")\n",
        "    print(np.median(a['Age']))\n",
        "    print(\"Mean Value of Blood Pressure \")\n",
        "    print(np.mean(a['Blood Pressure (mmHg)']))\n",
        "    print(\"Mean Value of Cholesterol\")\n",
        "    print(np.mean(a['Cholesterol (mg/dL)']))\n",
        "    print(\"Mean value of Age\")\n",
        "    print(np.mean(a['Age']))\n",
        "    mode_df = a.mode()\n",
        "    age_mode = mode_df['Age'][0]\n",
        "    chol_mode = mode_df['Cholesterol (mg/dL)'][0]\n",
        "    bp_mode = mode_df['Blood Pressure (mmHg)'][0]\n",
        "    print(f\"Mode of Age: {age_mode}\")\n",
        "    print(f\"Mode of Cholesterol (mg/DL): {chol_mode}\")\n",
        "    print(f\"Mode of Blood Pressure (mmHg): {bp_mode}\")\n",
        "else:\n",
        "    print(\"Error: Variable 'a' is not defined. Check the file loading process.\")"
      ],
      "metadata": {
        "colab": {
          "base_uri": "https://localhost:8080/"
        },
        "id": "bI9YLbonH_5i",
        "outputId": "e016a198-c9fe-4cfc-c533-8edb08f54e42"
      },
      "execution_count": 11,
      "outputs": [
        {
          "output_type": "stream",
          "name": "stdout",
          "text": [
            "Drive already mounted at /content/drive; to attempt to forcibly remount, call drive.mount(\"/content/drive\", force_remount=True).\n",
            "Error: File not found at /content/drive/MyDrive/Document from SHAIK SUBHANI. Please check the file path and ensure it exists.\n",
            "Error: Variable 'a' is not defined. Check the file loading process.\n"
          ]
        }
      ]
    },
    {
      "cell_type": "code",
      "source": [
        "import numpy as np\n",
        "import pandas as pd\n",
        "import scipy as sc\n",
        "import statistics as stat\n",
        "from scipy.stats import skew\n",
        "from scipy.stats import kurtosis\n",
        "from scipy.stats import iqr\n",
        "import matplotlib.pyplot as plt\n",
        "\n",
        "# Mount Google Drive to access the file (if not already mounted)\n",
        "from google.colab import drive\n",
        "drive.mount('/content/drive')\n",
        "\n",
        "# Verify the file path and name\n",
        "file_path = '/content/drive/MyDrive/Document from SHAIK SUBHANI' # Double-check this path for typos or incorrect location\n",
        "\n",
        "# Try reading the file with error handling\n",
        "try:\n",
        "    a = pd.read_csv(file_path)  # Make sure this line executes successfully\n",
        "    print(a)\n",
        "    print(a.columns)\n",
        "except FileNotFoundError:\n",
        "    print(f\"Error: File not found at {file_path}. Please check the file path and ensure it exists.\")\n",
        "except Exception as e:\n",
        "    print(f\"An unexpected error occurred: {e}\")\n",
        "\n",
        "# Ensure 'a' is defined before using it\n",
        "if 'a' in locals():  # Check if 'a' is defined\n",
        "    print(\"Variance of Blood Pressure \")\n",
        "    print(np.var(a['Blood Pressure (mmHg)']))\n",
        "    print(\"Variance of Cholesterol\")\n",
        "    print(np.var(a['Cholesterol (mg/dL)']))\n",
        "    print(\"Variance of Age\")\n",
        "    print(np.var(a['Age']))\n",
        "    print(\"Standard Deviation of Blood Pressure \")\n",
        "    print(np.std(a['BloodPressure']))"
      ],
      "metadata": {
        "colab": {
          "base_uri": "https://localhost:8080/"
        },
        "id": "tq4jbJmVIAoL",
        "outputId": "a28c3057-3659-4789-bb47-9bd7c6c30750"
      },
      "execution_count": 14,
      "outputs": [
        {
          "output_type": "stream",
          "name": "stdout",
          "text": [
            "Drive already mounted at /content/drive; to attempt to forcibly remount, call drive.mount(\"/content/drive\", force_remount=True).\n",
            "Error: File not found at /content/drive/MyDrive/Document from SHAIK SUBHANI. Please check the file path and ensure it exists.\n"
          ]
        }
      ]
    },
    {
      "cell_type": "code",
      "source": [
        "import numpy as np\n",
        "import pandas as pd\n",
        "import scipy as sc\n",
        "import statistics as stat\n",
        "from scipy.stats import skew\n",
        "from scipy.stats import kurtosis\n",
        "from scipy.stats import iqr\n",
        "import matplotlib.pyplot as plt\n",
        "\n",
        "# Mount Google Drive to access the file (if not already mounted)\n",
        "from google.colab import drive\n",
        "drive.mount('/content/drive')\n",
        "\n",
        "# Verify the file path and name\n",
        "file_path = '/content/drive/MyDrive/Document from SHAIK SUBHANI' # Double-check this path for typos or incorrect location\n",
        "\n",
        "# Try reading the file with error handling\n",
        "try:\n",
        "    a = pd.read_csv(file_path)  # Make sure this line executes successfully\n",
        "    print(a)\n",
        "    print(a.columns)\n",
        "except FileNotFoundError:\n",
        "    print(f\"Error: File not found at {file_path}. Please check the file path and ensure it exists.\")\n",
        "except Exception as e:\n",
        "    print(f\"An unexpected error occurred: {e}\")\n",
        "\n",
        "# Ensure 'a' is defined before using it\n",
        "if 'a' in locals():  # Check if 'a' is defined\n",
        "    print(\"IQR value of Age\")\n",
        "    iqr_age = iqr(a['Age'])\n",
        "    print(iqr_age)\n",
        "    print(\"\")\n",
        "    print(\"IQR value of Blood Pressure\")\n",
        "    iqr_bp = iqr(a['Blood Pressure (mmHg)'])\n",
        "    print(iqr_bp)\n",
        "    print(\"\")\n",
        "    print(\"IQR value of Cholesterol\")\n",
        "    iqr_chol = iqr(a['Cholesterol (mg/dL)'])\n",
        "    print(iqr_chol)\n",
        "    print(\"\")\n",
        "    print(\"Skewness value of Age\")\n",
        "    skewness_Age = skew(a['Age'], axis=0,bias=True)\n",
        "    print(skewness_Age)\n",
        "    print(\"\")\n",
        "    print(\"Skewness value of Blood Pressure\")\n",
        "    skewness_Blood_Pressure = skew(a['Blood Pressure (mmHg)'], axis=0,bias=True)\n",
        "    print(skewness_Blood_Pressure)\n",
        "    print(\"\")\n",
        "    print(\"Skewness value of Cholesterol\")\n",
        "    skewness_Cholesterol = skew(a['Cholesterol (mg/dL)'], axis=0,bias=True)\n",
        "    print(skewness_Cholesterol)\n",
        "    print(\"\")\n",
        "    print(\"Kurtosis value of Age\")\n",
        "    Age = kurtosis(a['Age'], axis=0, bias=True)\n",
        "    print(Age)\n",
        "    print(\"\")\n",
        "    print(\"Kurtosis value of Blood Pressure\")\n",
        "    Blood_Pressure = kurtosis (a ['Blood Pressure (mmHg)'], axis=0,bias=True)\n",
        "    print(Blood_Pressure)\n",
        "    print(\"\")\n",
        "    print(\"Kurtosis value of Cholesterol\")\n",
        "    Cholesterol = kurtosis(a['Cholesterol (mg/dL)'],axis=0,bias=True)\n",
        "    print(Cholesterol)\n",
        "else:\n",
        "    print(\"Error: The DataFrame 'a' was not created. Check if the file was loaded correctly.\")"
      ],
      "metadata": {
        "colab": {
          "base_uri": "https://localhost:8080/"
        },
        "id": "cEZSN4_BIPuH",
        "outputId": "3c8662d7-6b5c-4ea7-9925-89cf6a4f1334"
      },
      "execution_count": 16,
      "outputs": [
        {
          "output_type": "stream",
          "name": "stdout",
          "text": [
            "Drive already mounted at /content/drive; to attempt to forcibly remount, call drive.mount(\"/content/drive\", force_remount=True).\n",
            "Error: File not found at /content/drive/MyDrive/Document from SHAIK SUBHANI. Please check the file path and ensure it exists.\n",
            "Error: The DataFrame 'a' was not created. Check if the file was loaded correctly.\n"
          ]
        }
      ]
    },
    {
      "cell_type": "code",
      "source": [],
      "metadata": {
        "id": "0o1sELt3IhdT"
      },
      "execution_count": null,
      "outputs": []
    }
  ]
}